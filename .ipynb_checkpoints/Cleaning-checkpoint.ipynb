{
 "cells": [
  {
   "cell_type": "code",
   "execution_count": null,
   "metadata": {},
   "outputs": [],
   "source": [
    "import pandas as pd\n",
    "import numpy as np\n",
    "from itertools import compress"
   ]
  },
  {
   "cell_type": "code",
   "execution_count": null,
   "metadata": {},
   "outputs": [],
   "source": [
    "#neat-ish\n",
    "fuel=pd.read_excel(\"data/alt_fueling_stations.xlsx\", header=2, usecols=[1,10],skipfooter=20)\n",
    "elec=pd.read_excel(\"data/electricity.xlsx\", header=1)\n",
    "hev=pd.read_excel(\"data/hev_sale.xlsx\", header=2, usecols=[1,68],skipfooter=19)\n",
    "\n",
    "#Sheets need to be combined\n",
    "meat=pd.ExcelFile(\"data/meat_consumption.xlsx\")\n",
    "red_meat=pd.read_excel(meat,sheet_name=\"WASDE_TotalRedMeat-Full\",header=2, usecols=[0,1,13],names=[\"red_meat_per_capita\"],skipfooter=5)\n",
    "white_meat=pd.read_excel(meat,sheet_name=\"WASDE_TotalPoultry-Full\",header=2, usecols=[0,1,13],names=[\"poultry_per_capita\"],skipfooter=5)\n",
    "\n",
    "#Melt\n",
    "pev=pd.read_excel(\"data/pev_sales.xlsx\", header=2,skipfooter=10)\n",
    "######FIND TOTAL VEHICLE SALES DATA SET######\n",
    "\n",
    "#Melt\n",
    "waste=pd.read_excel(\"data/waste_recycling.xlsx\",skipfooter=3,index_col=0)\n",
    "\n",
    "#Sweet Baby Lettuce why (condense and combine)\n",
    "public_trans = pd.ExcelFile(\"data/public_trans.xlsx\")\n",
    "cols = [i for i in range(219) if i not in [0,1,2,3,4,5,6,8]]\n",
    "UPT=pd.read_excel(public_trans,sheet_name=\"UPT\",usecols=cols)\n",
    "VRM=pd.read_excel(public_trans,sheet_name=\"VRM\",usecols=cols)\n",
    "VRH=pd.read_excel(public_trans,sheet_name=\"VRH\",usecols=cols)"
   ]
  },
  {
   "cell_type": "code",
   "execution_count": null,
   "metadata": {},
   "outputs": [],
   "source": [
    "years=[x[0] for x in red_meat.index]\n",
    "i=~np.isnan(years)\n",
    "years=list(compress(years,i))\n",
    "\n",
    "red_meat_per_capita=[]\n",
    "poultry_per_capita=[]\n",
    "for (i,(year,quart)) in enumerate(red_meat.index):\n",
    "    if quart=='Yr Jan-Dec':\n",
    "        red_meat_per_capita=red_meat_per_capita+[red_meat['red_meat_per_capita'].iloc[i]]\n",
    "        poultry_per_capita=poultry_per_capita+[white_meat['poultry_per_capita'].iloc[i]]\n",
    "    \n",
    "\n",
    "meat=pd.DataFrame({'Year':years,'Red':red_meat_per_capita,'White':poultry_per_capita})"
   ]
  },
  {
   "cell_type": "code",
   "execution_count": null,
   "metadata": {},
   "outputs": [],
   "source": [
    "hev.columns=['Year','Hybrids']\n",
    "PEVs=pev.transpose().iloc[2:9,-1].reset_index()\n",
    "PEVs.columns=['Year','Plug-ins']\n",
    "\n",
    "vehicles=hev.merge(PEVs, on='Year', how='outer')"
   ]
  },
  {
   "cell_type": "code",
   "execution_count": null,
   "metadata": {},
   "outputs": [],
   "source": [
    "waste=waste.transpose()[['Products - Total Materials','Total MSW Generated - Weight']].reset_index()\n",
    "waste.columns=['Year','Total_Recycled','Total_MSW']\n",
    "waste['Percent_Recycled']=waste['Total_Recycled']/waste['Total_MSW']"
   ]
  },
  {
   "cell_type": "code",
   "execution_count": null,
   "metadata": {},
   "outputs": [],
   "source": [
    "electric=(elec[['Year','Residential', 'Commercial', 'Industrial', 'Transportation','Total']]\n",
    "          .groupby('Year')\n",
    "          .sum()\n",
    "          .reset_index())"
   ]
  },
  {
   "cell_type": "code",
   "execution_count": null,
   "metadata": {},
   "outputs": [],
   "source": [
    "# UPT=pd.read_excel(public_trans,sheet_name=\"UPT\",usecols=cols)"
   ]
  },
  {
   "cell_type": "code",
   "execution_count": null,
   "metadata": {},
   "outputs": [],
   "source": [
    "# UPT=(UPT.transpose().reset_index())\n",
    "\n",
    "# col_names=UPT.iloc[0]\n",
    "# UPT.columns=col_names\n",
    "# UPT = UPT.drop(0)\n",
    "\n",
    "# month=[]\n",
    "# year=[]\n",
    "\n",
    "# for word in UPT['Modes']:\n",
    "#     month=month+[word[:3]]\n",
    "#     year=year+[word[3:]]\n",
    "\n",
    "# UPT['year']=year\n",
    "# col_names = UPT.columns.tolist()\n",
    "# col_names = col_names[-1:] + col_names[:-1]\n",
    "# UPT = UPT[col_names]\n",
    "# UPT = UPT.drop(columns='Modes')"
   ]
  },
  {
   "cell_type": "code",
   "execution_count": null,
   "metadata": {},
   "outputs": [],
   "source": [
    "# upt_columns = list(UPT.columns.unique())\n",
    "# upt_columns = [col for col in upt_columns if str(col) != 'nan']\n",
    "# upt_by_mode = UPT[upt_columns]\n",
    "# upt_by_mode = upt_by_mode.set_index('year')"
   ]
  },
  {
   "cell_type": "code",
   "execution_count": null,
   "metadata": {},
   "outputs": [],
   "source": [
    "dates = list(UPT.columns)\n",
    "del dates[0]\n",
    "melted = UPT.melt(id_vars=['Modes'], value_vars=dates, var_name='Date', value_name='UPT')\n",
    "\n",
    "year=[]\n",
    "\n",
    "for word in melted['Date']:\n",
    "#     if len(year)==0:\n",
    "#         print('First Element')\n",
    "#     elif year[len(year)-1]!=word[3:]:\n",
    "#         print(word[3:])\n",
    "#     else:\n",
    "#         pass\n",
    "    year=year+['20'+word[3:]]\n",
    "\n",
    "melted['Year']=year\n",
    "col_names = melted.columns.tolist()\n",
    "col_names = col_names[-1:] + col_names[:-1]\n",
    "melted = melted[col_names]\n",
    "melted = melted.drop(columns='Date')"
   ]
  }
 ],
 "metadata": {
  "kernelspec": {
   "display_name": "Python 3",
   "language": "python",
   "name": "python3"
  },
  "language_info": {
   "codemirror_mode": {
    "name": "ipython",
    "version": 3
   },
   "file_extension": ".py",
   "mimetype": "text/x-python",
   "name": "python",
   "nbconvert_exporter": "python",
   "pygments_lexer": "ipython3",
   "version": "3.7.0"
  }
 },
 "nbformat": 4,
 "nbformat_minor": 2
}
