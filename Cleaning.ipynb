{
 "cells": [
  {
   "cell_type": "markdown",
   "metadata": {},
   "source": [
    "# The Political Climate of the USA"
   ]
  },
  {
   "cell_type": "markdown",
   "metadata": {},
   "source": [
    "How much is public opinion on climate change and the environment influenced by the views of the current president? \n",
    "\n",
    "In the past ~18 years, the US has seen three different presidents with differing views on climate change. President Bush (2001-2009) was a climate change denier, as is current president Donald Trump. President Obama (2009-2017), however, was proponent of climate change. All three presidents had public policies in place consistent with the views above. \n",
    "\n",
    "President Bush \"asked the National Academy of Sciences (NAS) to review the findings of the Intergovernmental Panel on Climate Change (IPCC) and provide further assessment of climate science’s “certainties and uncertainties.”3\" Furthermore, he \"expressed disdain for a State Department report6 to the United Nations that pointed to a clear human role in the accumulation of heat-trapping gases and detailed the likely negative consequences of climate change; the president called it “a report put out by the bureaucracy.”7\" (https://www.ucsusa.org/our-work/center-science-and-democracy/promoting-scientific-integrity/manipulation-of-global.html). \n",
    "\n",
    "In contrast, President Obama called climate change \"the greatest threat to future generations\" in his 2015 State of the Union Address and implemented the Global Climate Change Initiative.\n",
    "\n",
    "Meanwhile, President Trump has already left the Paris climate agreement, [weakened methane regulation](https://www.nytimes.com/2019/08/29/climate/epa-methane-greenhouse-gas.html?module=inline), frozen fuel efficiency standards and [revoked state rights to set their own rules](https://www.washingtonpost.com/climate-environment/trump-administration-to-revoke-californias-power-to-set-stricter-auto-emissions-standards/2019/09/17/79af2ee0-d97b-11e9-a688-303693fb4b0b_story.html?noredirect=on), [eliminated the clean power plan](https://www.washingtonpost.com/climate-environment/trump-administration-to-revoke-californias-power-to-set-stricter-auto-emissions-standards/2019/09/17/79af2ee0-d97b-11e9-a688-303693fb4b0b_story.html?noredirect=on) and more.\n",
    "\n",
    "In this project I look at how these public policies and presidential attitudes do (or do not) affect public opinion on climate change. Rather than relying on climate change polls, I choose to look at behavior of people in the US. I compare residential energy usage, electric and hybrid car sales, public transportation, consumption of meat, waste produced and recycled, and public transportation useage.\n",
    "\n",
    "Some of these data sets go back as far as the 1970s, but for the purposes of this project, I'm more interested in 2001 to present. Data on Plug-In electric vehicles is the most restrictive, since the number of sales has only become significant recently; this set begins in 2011 and can only be used to compare President Obama's administration to President Trump's. The waste set has 2000, 2005, and 2010, but nothing in between. Furthermore, several of the sets are missing more recent years. I intend to search for more up-to-date data in the future. For now I consider all sets from 2002 onward. I choose to cut at 2002 instead of 2001 because that's where the public transportation data begin and removing one year of Bush's presidency is unlikely to affect any conclusions."
   ]
  },
  {
   "cell_type": "code",
   "execution_count": 1,
   "metadata": {},
   "outputs": [],
   "source": [
    "import pandas as pd\n",
    "import numpy as np\n",
    "from itertools import compress\n",
    "from functools import reduce"
   ]
  },
  {
   "cell_type": "markdown",
   "metadata": {},
   "source": [
    "## Data Sets"
   ]
  },
  {
   "cell_type": "markdown",
   "metadata": {},
   "source": [
    "Electricity Use by Year by State: https://www.eia.gov/electricity/data.php#sales \n",
    "Plug-in and HEV sales by year by model: https://afdc.energy.gov/data/search?q=hybrid+sales\n",
    "Number of Alternate-Fuel Fueling Stations: www.afdc.energy.gov/afdc/fuels/stations_counts.html\n",
    "Total Car Sales: https://fred.stlouisfed.org/series/TOTALSA \n",
    "Public Transportation: https://www.transit.dot.gov/ntd/data-product/monthly-module-adjusted-data-release \n",
    "Meat Consumption: https://www.ers.usda.gov/data-products/livestock-meat-domestic-data/livestock-meat-domestic-data/ \n",
    "Waste and Recycling: https://catalog.data.gov/dataset/sustainable-materials-management-smm-materials-and-waste-management-in-the-united-states-key-f \n",
    "Total Population: https://fred.stlouisfed.org/series/POPTOTUSA647NWDB "
   ]
  },
  {
   "cell_type": "code",
   "execution_count": 2,
   "metadata": {},
   "outputs": [],
   "source": [
    "fuel=pd.read_excel(\"data/alt_fueling_stations.xlsx\", header=2, usecols=[1,10],skipfooter=20)\n",
    "hev=pd.read_excel(\"data/hev_sale.xlsx\", header=2, usecols=[1,68],skipfooter=19)\n",
    "pev=pd.read_excel(\"data/pev_sales.xlsx\", header=2,skipfooter=10)\n",
    "cars=pd.read_csv(\"data/total_car_sales.csv\")\n",
    "\n",
    "meat=pd.ExcelFile(\"data/meat_consumption.xlsx\")\n",
    "red_meat=pd.read_excel(meat,sheet_name=\"WASDE_TotalRedMeat-Full\",header=2, usecols=[0,1,13],names=[\"red_meat_per_capita\"],skipfooter=5)\n",
    "white_meat=pd.read_excel(meat,sheet_name=\"WASDE_TotalPoultry-Full\",header=2, usecols=[0,1,13],names=[\"poultry_per_capita\"],skipfooter=5)\n",
    "\n",
    "waste=pd.read_excel(\"data/waste_recycling.xlsx\",skipfooter=3,index_col=0)\n",
    "pop=pd.read_csv(\"data/pop_tot.csv\")\n",
    "\n",
    "elec=pd.read_excel(\"data/electricity.xlsx\", header=1)\n",
    "\n",
    "public_trans = pd.ExcelFile(\"data/public_trans.xlsx\")\n",
    "cols = [i for i in range(219) if i not in [0,1,2,3,4,5,6,8]]\n",
    "UPT=pd.read_excel(public_trans,sheet_name=\"UPT\",usecols=cols)\n",
    "VRM=pd.read_excel(public_trans,sheet_name=\"VRM\",usecols=cols)\n",
    "VRH=pd.read_excel(public_trans,sheet_name=\"VRH\",usecols=cols)"
   ]
  },
  {
   "cell_type": "code",
   "execution_count": 3,
   "metadata": {},
   "outputs": [],
   "source": [
    "fuel=fuel.rename(columns={'Year':'year','Total***':'alt_fuel_stations'})\n",
    "fuel=fuel[fuel['year']>=2002]\n",
    "fuel=fuel.reset_index(drop=True)"
   ]
  },
  {
   "cell_type": "code",
   "execution_count": 4,
   "metadata": {},
   "outputs": [],
   "source": [
    "pop_year=[]\n",
    "for date in pop['DATE']:\n",
    "           pop_year=pop_year+[int(date[0:4])]\n",
    "pop['year']=pop_year\n",
    "pop=pop.drop(columns=['DATE'])\n",
    "pop=pop.rename(columns={'POPTOTUSA647NWDB':'tot_population'})\n",
    "pop=pop[['year','tot_population']]\n",
    "pop=pop[pop['year']>=2002]\n",
    "pop=pop.reset_index(drop=True)"
   ]
  },
  {
   "cell_type": "code",
   "execution_count": 5,
   "metadata": {},
   "outputs": [],
   "source": [
    "years=[x[0] for x in red_meat.index]\n",
    "i=~np.isnan(years)\n",
    "years=list(compress(years,i))\n",
    "\n",
    "red_meat_per_capita=[]\n",
    "poultry_per_capita=[]\n",
    "for (i,(year,quart)) in enumerate(red_meat.index):\n",
    "    if quart=='Yr Jan-Dec':\n",
    "        red_meat_per_capita=red_meat_per_capita+[red_meat['red_meat_per_capita'].iloc[i]]\n",
    "        poultry_per_capita=poultry_per_capita+[white_meat['poultry_per_capita'].iloc[i]]\n",
    "    \n",
    "\n",
    "meat=pd.DataFrame({'year':years,'red_meat':red_meat_per_capita,'white_meat':poultry_per_capita})\n",
    "meat = meat[meat['year']>=2002]\n",
    "meat=meat.reset_index(drop=True)"
   ]
  },
  {
   "cell_type": "code",
   "execution_count": 6,
   "metadata": {},
   "outputs": [],
   "source": [
    "car_year=[]\n",
    "\n",
    "for date in cars['DATE']:\n",
    "           car_year=car_year+[int(date[0:4])]\n",
    "        \n",
    "cars['year']=car_year\n",
    "cars=cars.drop(columns=['DATE'])\n",
    "cars=cars.rename(columns={'TOTALSA':'tot_population'})\n",
    "cars=cars[['year','tot_population']]\n",
    "cars=cars[cars['year']>=2002]\n",
    "cars=cars.reset_index(drop=True)"
   ]
  },
  {
   "cell_type": "code",
   "execution_count": 7,
   "metadata": {},
   "outputs": [],
   "source": [
    "hev.columns=['year','hybrids']\n",
    "PEVs=pev.transpose().iloc[2:9,-1].reset_index()\n",
    "PEVs.columns=['year','plug-ins']\n",
    "\n",
    "vehicles=hev.merge(PEVs, on='year', how='outer')\n",
    "vehicles = vehicles[vehicles['year']>=2002]\n",
    "vehicles=vehicles.reset_index(drop=True)\n",
    "\n",
    "veh_pops=pop['tot_population'][pop.year.isin(vehicles.year)].reset_index(drop=True) \n",
    "vehicles['percent_hybrid']=vehicles['hybrids']/veh_pops\n",
    "vehicles['percent_plug-in']=vehicles['plug-ins']/veh_pops\n",
    "vehicles=vehicles.drop(columns=['hybrids','plug-ins'])"
   ]
  },
  {
   "cell_type": "code",
   "execution_count": 8,
   "metadata": {},
   "outputs": [],
   "source": [
    "waste=waste.transpose()[['Products - Total Materials','Total MSW Generated - Weight']].reset_index()\n",
    "waste.columns=['year','tot_recycled','total_MSW']\n",
    "waste['percent_recycled']=waste['tot_recycled']/waste['total_MSW'] * 100\n",
    "waste = waste.drop(columns=['tot_recycled'])\n",
    "waste['year']=[float(x) for x in waste['year']]\n",
    "waste = waste[waste['year']>=2002]\n",
    "\n",
    "waste=waste.reset_index(drop=True)\n",
    "waste_pops=pop['tot_population'][pop.year.isin(waste.year)].reset_index(drop=True) \n",
    "waste['MSW_per_capita']=waste['total_MSW']/waste_pops\n",
    "waste=waste.drop(columns=['total_MSW'])"
   ]
  },
  {
   "cell_type": "code",
   "execution_count": 9,
   "metadata": {},
   "outputs": [],
   "source": [
    "electric=(elec[['Year','Residential']]\n",
    "          .groupby('Year')\n",
    "          .sum()\n",
    "          .reset_index())\n",
    "electric = electric.rename(columns={'Year':'year'})\n",
    "electric = electric[electric['year']>=2002]\n",
    "electric=electric.reset_index(drop=True)\n",
    "elec_pops=pop['tot_population'][pop.year.isin(electric.year)].reset_index(drop=True) \n",
    "electric['residential_electric_per_capita']=electric['Residential']/elec_pops\n",
    "electric=electric.drop(columns=['Residential'])"
   ]
  },
  {
   "cell_type": "markdown",
   "metadata": {},
   "source": [
    "The 2002 public transit data is incomplete, so I start at 2003"
   ]
  },
  {
   "cell_type": "code",
   "execution_count": 12,
   "metadata": {},
   "outputs": [
    {
     "name": "stdout",
     "output_type": "stream",
     "text": [
      "public_transit_trips\n",
      "First Element\n",
      "03\n",
      "04\n",
      "05\n",
      "06\n",
      "07\n",
      "08\n",
      "09\n",
      "10\n",
      "11\n",
      "12\n",
      "13\n",
      "14\n",
      "15\n",
      "16\n",
      "17\n",
      "18\n",
      "19\n",
      "public_transit_miles\n",
      "public_transit_hours\n"
     ]
    }
   ],
   "source": [
    "DFs=[UPT,VRM,VRH]\n",
    "Noms=['public_transit_trips','public_transit_miles','public_transit_hours']\n",
    "year=[]\n",
    "transport=pd.DataFrame()\n",
    "\n",
    "\n",
    "for (df,nom) in zip(DFs, Noms):\n",
    "    print(nom)\n",
    "    dates = list(df.columns)\n",
    "    del dates[0]\n",
    "    melted = df.melt(id_vars=['Modes'], value_vars=dates, var_name='Date', value_name=nom)\n",
    "\n",
    "    if nom=='public_transit_trips':\n",
    "        transport['Modes']=melted['Modes']\n",
    "        \n",
    "#         print('Get years')\n",
    "        for word in melted['Date']:\n",
    "            if len(year)==0:\n",
    "                print('First Element')\n",
    "            elif year[len(year)-1][2:]!=word[3:]:\n",
    "                print(word[3:])\n",
    "            else:\n",
    "                pass\n",
    "            year=year+['20'+word[3:]]\n",
    "\n",
    "        transport['year']=[ float(x) for x in year ]\n",
    "\n",
    "    transport[nom]=melted[nom]\n",
    "    \n",
    "transport = transport.groupby(['year']).mean().reset_index()\n",
    "transport = transport[transport['year']>=2003]\n",
    "transport=transport.reset_index(drop=True)"
   ]
  },
  {
   "cell_type": "markdown",
   "metadata": {},
   "source": [
    "Alaska Railroad (AR)\n",
    "Cable car (CC)\n",
    "Commuter rail (CR)\n",
    "Heavy rail (HR)\n",
    "Hybrid rail (YR)\n",
    "Inclined plane (IP)\n",
    "Light rail (LR)\n",
    "Monorail/Automated guideway transit (MG)\n",
    "Streetcar (SR)\n",
    "Aerial Tramway (TR)\n",
    "Bus (MB)\n",
    "Bus rapid transit (RB)\n",
    "Commuter bus (CB)\n",
    "Demand Response (DR)\n",
    "Demand taxi (DT)\n",
    "Ferryboat (FB)\n",
    "Jitney (JT)\n",
    "Publico (PB)\n",
    "Trolleybus (TB)\n",
    "Vanpool (VP)"
   ]
  },
  {
   "cell_type": "code",
   "execution_count": 13,
   "metadata": {},
   "outputs": [],
   "source": [
    "data_frames = [transport,meat,vehicles,waste,electric,fuel]\n",
    "df_merged = reduce(lambda  left,right: pd.merge(left,right,on=['year'],\n",
    "                                            how='outer'), data_frames)\n",
    "df_merged.to_csv(r'data\\Cleaned and Combined.csv', index=False)"
   ]
  },
  {
   "cell_type": "code",
   "execution_count": null,
   "metadata": {},
   "outputs": [],
   "source": []
  }
 ],
 "metadata": {
  "kernelspec": {
   "display_name": "Python 3",
   "language": "python",
   "name": "python3"
  },
  "language_info": {
   "codemirror_mode": {
    "name": "ipython",
    "version": 3
   },
   "file_extension": ".py",
   "mimetype": "text/x-python",
   "name": "python",
   "nbconvert_exporter": "python",
   "pygments_lexer": "ipython3",
   "version": "3.7.0"
  }
 },
 "nbformat": 4,
 "nbformat_minor": 2
}
