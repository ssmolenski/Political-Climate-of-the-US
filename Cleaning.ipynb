{
 "cells": [
  {
   "cell_type": "markdown",
   "metadata": {},
   "source": [
    "# The Political Climate of the USA"
   ]
  },
  {
   "cell_type": "markdown",
   "metadata": {},
   "source": [
    "How much is public opinion on climate change and the environment influenced by the views of the current president? \n",
    "\n",
    "In the past ~18 years, the US has seen three different presidents with differing views on climate change. President Bush (2001-2009) was a climate change denier, as is current president Donald Trump. President Obama (2009-2017), however, was proponent of climate change. All three presidents had public policies in place consistent with the views above. \n",
    "\n",
    "President Bush \"asked the National Academy of Sciences (NAS) to review the findings of the Intergovernmental Panel on Climate Change (IPCC) and provide further assessment of climate science’s “certainties and uncertainties.”3\" Furthermore, he \"expressed disdain for a State Department report6 to the United Nations that pointed to a clear human role in the accumulation of heat-trapping gases and detailed the likely negative consequences of climate change; the president called it “a report put out by the bureaucracy.”7\" (https://www.ucsusa.org/our-work/center-science-and-democracy/promoting-scientific-integrity/manipulation-of-global.html). \n",
    "\n",
    "In contrast, President Obama called climate change \"the greatest threat to future generations\" in his 2015 State of the Union Address and implemented the Global Climate Change Initiative.\n",
    "\n",
    "Meanwhile, President Trump has already left the Paris climate agreement, [weakened methane regulation](https://www.nytimes.com/2019/08/29/climate/epa-methane-greenhouse-gas.html?module=inline), frozen fuel efficiency standards and [revoked state rights to set their own rules](https://www.washingtonpost.com/climate-environment/trump-administration-to-revoke-californias-power-to-set-stricter-auto-emissions-standards/2019/09/17/79af2ee0-d97b-11e9-a688-303693fb4b0b_story.html?noredirect=on), [eliminated the clean power plan](https://www.washingtonpost.com/climate-environment/trump-administration-to-revoke-californias-power-to-set-stricter-auto-emissions-standards/2019/09/17/79af2ee0-d97b-11e9-a688-303693fb4b0b_story.html?noredirect=on) and more.\n",
    "\n",
    "In this project I look at how these public policies and presidential attitudes do (or do not) affect public opinion on climate change. Rather than relying on climate change polls, I choose to look at behavior of people in the US. I compare residential energy usage, electric and hybrid car sales, public transportation, consumption of meat, waste produced and recycled, and public transportation useage.\n",
    "\n",
    "Some of these data sets go back as far as the 1970s, but for the purposes of this project, I'm more interested in 2001 to present. Data on Plug-In electric vehicles is the most restrictive, since the number of sales has only become significant recently; this set begins in 2011 and can only be used to compare President Obama's administration to President Trump's. The waste set has 2000, 2005, and 2010, but nothing in between. Furthermore, several of the sets are missing more recent years. I intend to search for more up-to-date data in the future. For now I consider all sets from 2002 onward. I choose to cut at 2002 instead of 2001 because that's where the public transportation data begin and removing one year of Bush's presidency is unlikely to affect any conclusions."
   ]
  },
  {
   "cell_type": "code",
   "execution_count": 1,
   "metadata": {},
   "outputs": [],
   "source": [
    "import pandas as pd\n",
    "import numpy as np\n",
    "from itertools import compress\n",
    "from functools import reduce"
   ]
  },
  {
   "cell_type": "markdown",
   "metadata": {},
   "source": [
    "## Data Sets"
   ]
  },
  {
   "cell_type": "markdown",
   "metadata": {},
   "source": [
    "Electricity Use by Year by State: https://www.eia.gov/electricity/data.php#sales \n",
    "Plug-in and HEV sales by year by model: https://afdc.energy.gov/data/search?q=hybrid+sales\n",
    "Number of Alternate-Fuel Fueling Stations: www.afdc.energy.gov/afdc/fuels/stations_counts.html\n",
    "Total Car Sales: https://fred.stlouisfed.org/series/TOTALSA \n",
    "Public Transportation: https://www.transit.dot.gov/ntd/data-product/monthly-module-adjusted-data-release \n",
    "Meat Consumption: https://www.ers.usda.gov/data-products/livestock-meat-domestic-data/livestock-meat-domestic-data/ \n",
    "Waste and Recycling: https://catalog.data.gov/dataset/sustainable-materials-management-smm-materials-and-waste-management-in-the-united-states-key-f \n",
    "Total Population: https://fred.stlouisfed.org/series/POPTOTUSA647NWDB "
   ]
  },
  {
   "cell_type": "code",
   "execution_count": 33,
   "metadata": {},
   "outputs": [],
   "source": [
    "fuel=pd.read_excel(\"data/alt_fueling_stations.xlsx\", header=2, usecols=[1,10],skipfooter=20)\n",
    "hev=pd.read_excel(\"data/hev_sale.xlsx\", header=2, usecols=[1,68],skipfooter=19)\n",
    "pev=pd.read_excel(\"data/pev_sales.xlsx\", header=2,skipfooter=10)\n",
    "cars=pd.read_csv(\"data/total_car_sales.csv\")\n",
    "\n",
    "meat=pd.ExcelFile(\"data/meat_consumption.xlsx\")\n",
    "red_meat=pd.read_excel(meat,sheet_name=\"WASDE_TotalRedMeat-Full\",header=2, usecols=[0,1,13],names=[\"red_meat_per_capita\"],skipfooter=5)\n",
    "white_meat=pd.read_excel(meat,sheet_name=\"WASDE_TotalPoultry-Full\",header=2, usecols=[0,1,13],names=[\"poultry_per_capita\"],skipfooter=5)\n",
    "\n",
    "waste=pd.read_excel(\"data/waste_recycling.xlsx\",skipfooter=3,index_col=0)\n",
    "pop=pd.read_csv(\"data/pop_tot.csv\")\n",
    "\n",
    "elec=pd.read_excel(\"data/electricity.xlsx\", header=1)\n",
    "\n",
    "public_trans = pd.ExcelFile(\"data/public_trans.xlsx\")\n",
    "cols = [i for i in range(219) if i not in [0,1,2,3,4,5,6,8]]\n",
    "UPT=pd.read_excel(public_trans,sheet_name=\"UPT\",usecols=cols)\n",
    "VRM=pd.read_excel(public_trans,sheet_name=\"VRM\",usecols=cols)\n",
    "VRH=pd.read_excel(public_trans,sheet_name=\"VRH\",usecols=cols)"
   ]
  },
  {
   "cell_type": "code",
   "execution_count": 35,
   "metadata": {},
   "outputs": [],
   "source": [
    "fuel=fuel.rename(columns={'Year':'year','Total***':'alt_fuel_stations'})\n",
    "fuel=fuel[fuel['year']>=2002]\n",
    "fuel=fuel.reset_index(drop=True)"
   ]
  },
  {
   "cell_type": "code",
   "execution_count": 36,
   "metadata": {},
   "outputs": [],
   "source": [
    "pop_year=[]\n",
    "for date in pop['DATE']:\n",
    "           pop_year=pop_year+[int(date[0:4])]\n",
    "pop['year']=pop_year\n",
    "pop=pop.drop(columns=['DATE'])\n",
    "pop=pop.rename(columns={'POPTOTUSA647NWDB':'tot_population'})\n",
    "pop=pop[['year','tot_population']]\n",
    "pop=pop[pop['year']>=2002]\n",
    "pop=pop.reset_index(drop=True)"
   ]
  },
  {
   "cell_type": "code",
   "execution_count": 37,
   "metadata": {},
   "outputs": [],
   "source": [
    "years=[x[0] for x in red_meat.index]\n",
    "i=~np.isnan(years)\n",
    "years=list(compress(years,i))\n",
    "\n",
    "red_meat_per_capita=[]\n",
    "poultry_per_capita=[]\n",
    "for (i,(year,quart)) in enumerate(red_meat.index):\n",
    "    if quart=='Yr Jan-Dec':\n",
    "        red_meat_per_capita=red_meat_per_capita+[red_meat['red_meat_per_capita'].iloc[i]]\n",
    "        poultry_per_capita=poultry_per_capita+[white_meat['poultry_per_capita'].iloc[i]]\n",
    "    \n",
    "\n",
    "meat=pd.DataFrame({'year':years,'red_meat':red_meat_per_capita,'white_meat':poultry_per_capita})\n",
    "meat = meat[meat['year']>=2002]\n",
    "meat=meat.reset_index(drop=True)"
   ]
  },
  {
   "cell_type": "code",
   "execution_count": 38,
   "metadata": {},
   "outputs": [],
   "source": [
    "car_year=[]\n",
    "\n",
    "for date in cars['DATE']:\n",
    "           car_year=car_year+[int(date[0:4])]\n",
    "        \n",
    "cars['year']=car_year\n",
    "cars=cars.drop(columns=['DATE'])\n",
    "cars=cars.rename(columns={'TOTALSA':'tot_population'})\n",
    "cars=cars[['year','tot_population']]\n",
    "cars=cars[cars['year']>=2002]\n",
    "cars=cars.reset_index(drop=True)"
   ]
  },
  {
   "cell_type": "code",
   "execution_count": 42,
   "metadata": {},
   "outputs": [
    {
     "data": {
      "text/html": [
       "<div>\n",
       "<style scoped>\n",
       "    .dataframe tbody tr th:only-of-type {\n",
       "        vertical-align: middle;\n",
       "    }\n",
       "\n",
       "    .dataframe tbody tr th {\n",
       "        vertical-align: top;\n",
       "    }\n",
       "\n",
       "    .dataframe thead th {\n",
       "        text-align: right;\n",
       "    }\n",
       "</style>\n",
       "<table border=\"1\" class=\"dataframe\">\n",
       "  <thead>\n",
       "    <tr style=\"text-align: right;\">\n",
       "      <th></th>\n",
       "      <th>year</th>\n",
       "      <th>percent_hybrid</th>\n",
       "      <th>percent_plug-in</th>\n",
       "    </tr>\n",
       "  </thead>\n",
       "  <tbody>\n",
       "    <tr>\n",
       "      <th>0</th>\n",
       "      <td>2002</td>\n",
       "      <td>0.000125</td>\n",
       "      <td>NaN</td>\n",
       "    </tr>\n",
       "    <tr>\n",
       "      <th>1</th>\n",
       "      <td>2003</td>\n",
       "      <td>0.000164</td>\n",
       "      <td>NaN</td>\n",
       "    </tr>\n",
       "    <tr>\n",
       "      <th>2</th>\n",
       "      <td>2004</td>\n",
       "      <td>0.000288</td>\n",
       "      <td>NaN</td>\n",
       "    </tr>\n",
       "    <tr>\n",
       "      <th>3</th>\n",
       "      <td>2005</td>\n",
       "      <td>0.000710</td>\n",
       "      <td>NaN</td>\n",
       "    </tr>\n",
       "    <tr>\n",
       "      <th>4</th>\n",
       "      <td>2006</td>\n",
       "      <td>0.000847</td>\n",
       "      <td>NaN</td>\n",
       "    </tr>\n",
       "  </tbody>\n",
       "</table>\n",
       "</div>"
      ],
      "text/plain": [
       "   year  percent_hybrid percent_plug-in\n",
       "0  2002        0.000125             NaN\n",
       "1  2003        0.000164             NaN\n",
       "2  2004        0.000288             NaN\n",
       "3  2005        0.000710             NaN\n",
       "4  2006        0.000847             NaN"
      ]
     },
     "execution_count": 42,
     "metadata": {},
     "output_type": "execute_result"
    }
   ],
   "source": [
    "hev.columns=['year','hybrids']\n",
    "PEVs=pev.transpose().iloc[2:9,-1].reset_index()\n",
    "PEVs.columns=['year','plug-ins']\n",
    "\n",
    "vehicles=hev.merge(PEVs, on='year', how='outer')\n",
    "vehicles = vehicles[vehicles['year']>=2002]\n",
    "vehicles=vehicles.reset_index(drop=True)\n",
    "\n",
    "veh_pops=pop['tot_population'][pop.year.isin(vehicles.year)].reset_index(drop=True) \n",
    "vehicles['percent_hybrid']=vehicles['hybrids']/veh_pops\n",
    "vehicles['percent_plug-in']=vehicles['plug-ins']/veh_pops\n",
    "vehicles=vehicles.drop(columns=['hybrids','plug-ins'])"
   ]
  },
  {
   "cell_type": "code",
   "execution_count": 43,
   "metadata": {},
   "outputs": [],
   "source": [
    "waste=waste.transpose()[['Products - Total Materials','Total MSW Generated - Weight']].reset_index()\n",
    "waste.columns=['year','tot_recycled','total_MSW']\n",
    "waste['percent_recycled']=waste['tot_recycled']/waste['total_MSW'] * 100\n",
    "waste = waste.drop(columns=['tot_recycled'])\n",
    "waste['year']=[float(x) for x in waste['year']]\n",
    "waste = waste[waste['year']>=2002]\n",
    "\n",
    "waste=waste.reset_index(drop=True)\n",
    "waste_pops=pop['tot_population'][pop.year.isin(waste.year)].reset_index(drop=True) \n",
    "waste['MSW_per_capita']=waste['total_MSW']/waste_pops\n",
    "waste=waste.drop(columns=['total_MSW'])"
   ]
  },
  {
   "cell_type": "code",
   "execution_count": 47,
   "metadata": {},
   "outputs": [],
   "source": [
    "electric=(elec[['Year','Residential']]\n",
    "          .groupby('Year')\n",
    "          .sum()\n",
    "          .reset_index())\n",
    "electric = electric.rename(columns={'Year':'year'})\n",
    "electric = electric[electric['year']>=2002]\n",
    "electric=electric.reset_index(drop=True)\n",
    "elec_pops=pop['tot_population'][pop.year.isin(electric.year)].reset_index(drop=True) \n",
    "electric['residential_electric_per_capita']=electric['Residential']/elec_pops\n",
    "electric=electric.drop(columns=['Residential'])"
   ]
  },
  {
   "cell_type": "code",
   "execution_count": 9,
   "metadata": {
    "collapsed": true
   },
   "outputs": [
    {
     "name": "stdout",
     "output_type": "stream",
     "text": [
      "UPT\n",
      "First Element\n",
      "03\n",
      "04\n",
      "05\n",
      "06\n",
      "07\n",
      "08\n",
      "09\n",
      "10\n",
      "11\n",
      "12\n",
      "13\n",
      "14\n",
      "15\n",
      "16\n",
      "17\n",
      "18\n",
      "19\n",
      "VRM\n",
      "VRH\n"
     ]
    },
    {
     "ename": "KeyError",
     "evalue": "'year'",
     "output_type": "error",
     "traceback": [
      "\u001b[1;31m---------------------------------------------------------------------------\u001b[0m",
      "\u001b[1;31mKeyError\u001b[0m                                  Traceback (most recent call last)",
      "\u001b[1;32m~\\Anaconda3\\lib\\site-packages\\pandas\\core\\indexes\\base.py\u001b[0m in \u001b[0;36mget_loc\u001b[1;34m(self, key, method, tolerance)\u001b[0m\n\u001b[0;32m   3077\u001b[0m             \u001b[1;32mtry\u001b[0m\u001b[1;33m:\u001b[0m\u001b[1;33m\u001b[0m\u001b[0m\n\u001b[1;32m-> 3078\u001b[1;33m                 \u001b[1;32mreturn\u001b[0m \u001b[0mself\u001b[0m\u001b[1;33m.\u001b[0m\u001b[0m_engine\u001b[0m\u001b[1;33m.\u001b[0m\u001b[0mget_loc\u001b[0m\u001b[1;33m(\u001b[0m\u001b[0mkey\u001b[0m\u001b[1;33m)\u001b[0m\u001b[1;33m\u001b[0m\u001b[0m\n\u001b[0m\u001b[0;32m   3079\u001b[0m             \u001b[1;32mexcept\u001b[0m \u001b[0mKeyError\u001b[0m\u001b[1;33m:\u001b[0m\u001b[1;33m\u001b[0m\u001b[0m\n",
      "\u001b[1;32mpandas\\_libs\\index.pyx\u001b[0m in \u001b[0;36mpandas._libs.index.IndexEngine.get_loc\u001b[1;34m()\u001b[0m\n",
      "\u001b[1;32mpandas\\_libs\\index.pyx\u001b[0m in \u001b[0;36mpandas._libs.index.IndexEngine.get_loc\u001b[1;34m()\u001b[0m\n",
      "\u001b[1;32mpandas\\_libs\\hashtable_class_helper.pxi\u001b[0m in \u001b[0;36mpandas._libs.hashtable.PyObjectHashTable.get_item\u001b[1;34m()\u001b[0m\n",
      "\u001b[1;32mpandas\\_libs\\hashtable_class_helper.pxi\u001b[0m in \u001b[0;36mpandas._libs.hashtable.PyObjectHashTable.get_item\u001b[1;34m()\u001b[0m\n",
      "\u001b[1;31mKeyError\u001b[0m: 'year'",
      "\nDuring handling of the above exception, another exception occurred:\n",
      "\u001b[1;31mKeyError\u001b[0m                                  Traceback (most recent call last)",
      "\u001b[1;32m<ipython-input-9-391858a20c0f>\u001b[0m in \u001b[0;36m<module>\u001b[1;34m()\u001b[0m\n\u001b[0;32m     29\u001b[0m \u001b[1;33m\u001b[0m\u001b[0m\n\u001b[0;32m     30\u001b[0m \u001b[0mtransport\u001b[0m \u001b[1;33m=\u001b[0m \u001b[0mtransport\u001b[0m\u001b[1;33m.\u001b[0m\u001b[0mgroupby\u001b[0m\u001b[1;33m(\u001b[0m\u001b[1;33m[\u001b[0m\u001b[1;34m'Year'\u001b[0m\u001b[1;33m]\u001b[0m\u001b[1;33m)\u001b[0m\u001b[1;33m.\u001b[0m\u001b[0mmean\u001b[0m\u001b[1;33m(\u001b[0m\u001b[1;33m)\u001b[0m\u001b[1;33m.\u001b[0m\u001b[0mreset_index\u001b[0m\u001b[1;33m(\u001b[0m\u001b[1;33m)\u001b[0m\u001b[1;33m\u001b[0m\u001b[0m\n\u001b[1;32m---> 31\u001b[1;33m \u001b[0mtransport\u001b[0m \u001b[1;33m=\u001b[0m \u001b[0mtransport\u001b[0m\u001b[1;33m[\u001b[0m\u001b[0mtransport\u001b[0m\u001b[1;33m[\u001b[0m\u001b[1;34m'year'\u001b[0m\u001b[1;33m]\u001b[0m\u001b[1;33m>=\u001b[0m\u001b[1;36m2002\u001b[0m\u001b[1;33m]\u001b[0m\u001b[1;33m\u001b[0m\u001b[0m\n\u001b[0m\u001b[0;32m     32\u001b[0m \u001b[0mtransport\u001b[0m\u001b[1;33m=\u001b[0m\u001b[0mtransport\u001b[0m\u001b[1;33m.\u001b[0m\u001b[0mreset_index\u001b[0m\u001b[1;33m(\u001b[0m\u001b[0mdrop\u001b[0m\u001b[1;33m=\u001b[0m\u001b[1;32mTrue\u001b[0m\u001b[1;33m)\u001b[0m\u001b[1;33m\u001b[0m\u001b[0m\n",
      "\u001b[1;32m~\\Anaconda3\\lib\\site-packages\\pandas\\core\\frame.py\u001b[0m in \u001b[0;36m__getitem__\u001b[1;34m(self, key)\u001b[0m\n\u001b[0;32m   2686\u001b[0m             \u001b[1;32mreturn\u001b[0m \u001b[0mself\u001b[0m\u001b[1;33m.\u001b[0m\u001b[0m_getitem_multilevel\u001b[0m\u001b[1;33m(\u001b[0m\u001b[0mkey\u001b[0m\u001b[1;33m)\u001b[0m\u001b[1;33m\u001b[0m\u001b[0m\n\u001b[0;32m   2687\u001b[0m         \u001b[1;32melse\u001b[0m\u001b[1;33m:\u001b[0m\u001b[1;33m\u001b[0m\u001b[0m\n\u001b[1;32m-> 2688\u001b[1;33m             \u001b[1;32mreturn\u001b[0m \u001b[0mself\u001b[0m\u001b[1;33m.\u001b[0m\u001b[0m_getitem_column\u001b[0m\u001b[1;33m(\u001b[0m\u001b[0mkey\u001b[0m\u001b[1;33m)\u001b[0m\u001b[1;33m\u001b[0m\u001b[0m\n\u001b[0m\u001b[0;32m   2689\u001b[0m \u001b[1;33m\u001b[0m\u001b[0m\n\u001b[0;32m   2690\u001b[0m     \u001b[1;32mdef\u001b[0m \u001b[0m_getitem_column\u001b[0m\u001b[1;33m(\u001b[0m\u001b[0mself\u001b[0m\u001b[1;33m,\u001b[0m \u001b[0mkey\u001b[0m\u001b[1;33m)\u001b[0m\u001b[1;33m:\u001b[0m\u001b[1;33m\u001b[0m\u001b[0m\n",
      "\u001b[1;32m~\\Anaconda3\\lib\\site-packages\\pandas\\core\\frame.py\u001b[0m in \u001b[0;36m_getitem_column\u001b[1;34m(self, key)\u001b[0m\n\u001b[0;32m   2693\u001b[0m         \u001b[1;31m# get column\u001b[0m\u001b[1;33m\u001b[0m\u001b[1;33m\u001b[0m\u001b[0m\n\u001b[0;32m   2694\u001b[0m         \u001b[1;32mif\u001b[0m \u001b[0mself\u001b[0m\u001b[1;33m.\u001b[0m\u001b[0mcolumns\u001b[0m\u001b[1;33m.\u001b[0m\u001b[0mis_unique\u001b[0m\u001b[1;33m:\u001b[0m\u001b[1;33m\u001b[0m\u001b[0m\n\u001b[1;32m-> 2695\u001b[1;33m             \u001b[1;32mreturn\u001b[0m \u001b[0mself\u001b[0m\u001b[1;33m.\u001b[0m\u001b[0m_get_item_cache\u001b[0m\u001b[1;33m(\u001b[0m\u001b[0mkey\u001b[0m\u001b[1;33m)\u001b[0m\u001b[1;33m\u001b[0m\u001b[0m\n\u001b[0m\u001b[0;32m   2696\u001b[0m \u001b[1;33m\u001b[0m\u001b[0m\n\u001b[0;32m   2697\u001b[0m         \u001b[1;31m# duplicate columns & possible reduce dimensionality\u001b[0m\u001b[1;33m\u001b[0m\u001b[1;33m\u001b[0m\u001b[0m\n",
      "\u001b[1;32m~\\Anaconda3\\lib\\site-packages\\pandas\\core\\generic.py\u001b[0m in \u001b[0;36m_get_item_cache\u001b[1;34m(self, item)\u001b[0m\n\u001b[0;32m   2487\u001b[0m         \u001b[0mres\u001b[0m \u001b[1;33m=\u001b[0m \u001b[0mcache\u001b[0m\u001b[1;33m.\u001b[0m\u001b[0mget\u001b[0m\u001b[1;33m(\u001b[0m\u001b[0mitem\u001b[0m\u001b[1;33m)\u001b[0m\u001b[1;33m\u001b[0m\u001b[0m\n\u001b[0;32m   2488\u001b[0m         \u001b[1;32mif\u001b[0m \u001b[0mres\u001b[0m \u001b[1;32mis\u001b[0m \u001b[1;32mNone\u001b[0m\u001b[1;33m:\u001b[0m\u001b[1;33m\u001b[0m\u001b[0m\n\u001b[1;32m-> 2489\u001b[1;33m             \u001b[0mvalues\u001b[0m \u001b[1;33m=\u001b[0m \u001b[0mself\u001b[0m\u001b[1;33m.\u001b[0m\u001b[0m_data\u001b[0m\u001b[1;33m.\u001b[0m\u001b[0mget\u001b[0m\u001b[1;33m(\u001b[0m\u001b[0mitem\u001b[0m\u001b[1;33m)\u001b[0m\u001b[1;33m\u001b[0m\u001b[0m\n\u001b[0m\u001b[0;32m   2490\u001b[0m             \u001b[0mres\u001b[0m \u001b[1;33m=\u001b[0m \u001b[0mself\u001b[0m\u001b[1;33m.\u001b[0m\u001b[0m_box_item_values\u001b[0m\u001b[1;33m(\u001b[0m\u001b[0mitem\u001b[0m\u001b[1;33m,\u001b[0m \u001b[0mvalues\u001b[0m\u001b[1;33m)\u001b[0m\u001b[1;33m\u001b[0m\u001b[0m\n\u001b[0;32m   2491\u001b[0m             \u001b[0mcache\u001b[0m\u001b[1;33m[\u001b[0m\u001b[0mitem\u001b[0m\u001b[1;33m]\u001b[0m \u001b[1;33m=\u001b[0m \u001b[0mres\u001b[0m\u001b[1;33m\u001b[0m\u001b[0m\n",
      "\u001b[1;32m~\\Anaconda3\\lib\\site-packages\\pandas\\core\\internals.py\u001b[0m in \u001b[0;36mget\u001b[1;34m(self, item, fastpath)\u001b[0m\n\u001b[0;32m   4113\u001b[0m \u001b[1;33m\u001b[0m\u001b[0m\n\u001b[0;32m   4114\u001b[0m             \u001b[1;32mif\u001b[0m \u001b[1;32mnot\u001b[0m \u001b[0misna\u001b[0m\u001b[1;33m(\u001b[0m\u001b[0mitem\u001b[0m\u001b[1;33m)\u001b[0m\u001b[1;33m:\u001b[0m\u001b[1;33m\u001b[0m\u001b[0m\n\u001b[1;32m-> 4115\u001b[1;33m                 \u001b[0mloc\u001b[0m \u001b[1;33m=\u001b[0m \u001b[0mself\u001b[0m\u001b[1;33m.\u001b[0m\u001b[0mitems\u001b[0m\u001b[1;33m.\u001b[0m\u001b[0mget_loc\u001b[0m\u001b[1;33m(\u001b[0m\u001b[0mitem\u001b[0m\u001b[1;33m)\u001b[0m\u001b[1;33m\u001b[0m\u001b[0m\n\u001b[0m\u001b[0;32m   4116\u001b[0m             \u001b[1;32melse\u001b[0m\u001b[1;33m:\u001b[0m\u001b[1;33m\u001b[0m\u001b[0m\n\u001b[0;32m   4117\u001b[0m                 \u001b[0mindexer\u001b[0m \u001b[1;33m=\u001b[0m \u001b[0mnp\u001b[0m\u001b[1;33m.\u001b[0m\u001b[0marange\u001b[0m\u001b[1;33m(\u001b[0m\u001b[0mlen\u001b[0m\u001b[1;33m(\u001b[0m\u001b[0mself\u001b[0m\u001b[1;33m.\u001b[0m\u001b[0mitems\u001b[0m\u001b[1;33m)\u001b[0m\u001b[1;33m)\u001b[0m\u001b[1;33m[\u001b[0m\u001b[0misna\u001b[0m\u001b[1;33m(\u001b[0m\u001b[0mself\u001b[0m\u001b[1;33m.\u001b[0m\u001b[0mitems\u001b[0m\u001b[1;33m)\u001b[0m\u001b[1;33m]\u001b[0m\u001b[1;33m\u001b[0m\u001b[0m\n",
      "\u001b[1;32m~\\Anaconda3\\lib\\site-packages\\pandas\\core\\indexes\\base.py\u001b[0m in \u001b[0;36mget_loc\u001b[1;34m(self, key, method, tolerance)\u001b[0m\n\u001b[0;32m   3078\u001b[0m                 \u001b[1;32mreturn\u001b[0m \u001b[0mself\u001b[0m\u001b[1;33m.\u001b[0m\u001b[0m_engine\u001b[0m\u001b[1;33m.\u001b[0m\u001b[0mget_loc\u001b[0m\u001b[1;33m(\u001b[0m\u001b[0mkey\u001b[0m\u001b[1;33m)\u001b[0m\u001b[1;33m\u001b[0m\u001b[0m\n\u001b[0;32m   3079\u001b[0m             \u001b[1;32mexcept\u001b[0m \u001b[0mKeyError\u001b[0m\u001b[1;33m:\u001b[0m\u001b[1;33m\u001b[0m\u001b[0m\n\u001b[1;32m-> 3080\u001b[1;33m                 \u001b[1;32mreturn\u001b[0m \u001b[0mself\u001b[0m\u001b[1;33m.\u001b[0m\u001b[0m_engine\u001b[0m\u001b[1;33m.\u001b[0m\u001b[0mget_loc\u001b[0m\u001b[1;33m(\u001b[0m\u001b[0mself\u001b[0m\u001b[1;33m.\u001b[0m\u001b[0m_maybe_cast_indexer\u001b[0m\u001b[1;33m(\u001b[0m\u001b[0mkey\u001b[0m\u001b[1;33m)\u001b[0m\u001b[1;33m)\u001b[0m\u001b[1;33m\u001b[0m\u001b[0m\n\u001b[0m\u001b[0;32m   3081\u001b[0m \u001b[1;33m\u001b[0m\u001b[0m\n\u001b[0;32m   3082\u001b[0m         \u001b[0mindexer\u001b[0m \u001b[1;33m=\u001b[0m \u001b[0mself\u001b[0m\u001b[1;33m.\u001b[0m\u001b[0mget_indexer\u001b[0m\u001b[1;33m(\u001b[0m\u001b[1;33m[\u001b[0m\u001b[0mkey\u001b[0m\u001b[1;33m]\u001b[0m\u001b[1;33m,\u001b[0m \u001b[0mmethod\u001b[0m\u001b[1;33m=\u001b[0m\u001b[0mmethod\u001b[0m\u001b[1;33m,\u001b[0m \u001b[0mtolerance\u001b[0m\u001b[1;33m=\u001b[0m\u001b[0mtolerance\u001b[0m\u001b[1;33m)\u001b[0m\u001b[1;33m\u001b[0m\u001b[0m\n",
      "\u001b[1;32mpandas\\_libs\\index.pyx\u001b[0m in \u001b[0;36mpandas._libs.index.IndexEngine.get_loc\u001b[1;34m()\u001b[0m\n",
      "\u001b[1;32mpandas\\_libs\\index.pyx\u001b[0m in \u001b[0;36mpandas._libs.index.IndexEngine.get_loc\u001b[1;34m()\u001b[0m\n",
      "\u001b[1;32mpandas\\_libs\\hashtable_class_helper.pxi\u001b[0m in \u001b[0;36mpandas._libs.hashtable.PyObjectHashTable.get_item\u001b[1;34m()\u001b[0m\n",
      "\u001b[1;32mpandas\\_libs\\hashtable_class_helper.pxi\u001b[0m in \u001b[0;36mpandas._libs.hashtable.PyObjectHashTable.get_item\u001b[1;34m()\u001b[0m\n",
      "\u001b[1;31mKeyError\u001b[0m: 'year'"
     ]
    }
   ],
   "source": [
    "DFs=[UPT,VRM,VRH]\n",
    "Noms=['public_transit_trips','public_transit_miles','public_transit_hours']\n",
    "year=[]\n",
    "transport=pd.DataFrame()\n",
    "\n",
    "\n",
    "for (df,nom) in zip(DFs, Noms):\n",
    "    print(nom)\n",
    "    dates = list(df.columns)\n",
    "    del dates[0]\n",
    "    melted = df.melt(id_vars=['Modes'], value_vars=dates, var_name='Date', value_name=nom)\n",
    "\n",
    "    if nom=='public_transit_trips':\n",
    "        transport['Modes']=melted['Modes']\n",
    "        \n",
    "#         print('Get years')\n",
    "        for word in melted['Date']:\n",
    "            if len(year)==0:\n",
    "                print('First Element')\n",
    "            elif year[len(year)-1][2:]!=word[3:]:\n",
    "                print(word[3:])\n",
    "            else:\n",
    "                pass\n",
    "            year=year+['20'+word[3:]]\n",
    "\n",
    "        transport['year']=[ float(x) for x in year ]\n",
    "\n",
    "    transport[nom]=melted[nom]\n",
    "    \n",
    "transport = transport.groupby(['year']).mean().reset_index()\n",
    "transport = transport[transport['year']>=2002]\n",
    "transport=transport.reset_index(drop=True)"
   ]
  },
  {
   "cell_type": "markdown",
   "metadata": {},
   "source": [
    "Alaska Railroad (AR)\n",
    "Cable car (CC)\n",
    "Commuter rail (CR)\n",
    "Heavy rail (HR)\n",
    "Hybrid rail (YR)\n",
    "Inclined plane (IP)\n",
    "Light rail (LR)\n",
    "Monorail/Automated guideway transit (MG)\n",
    "Streetcar (SR)\n",
    "Aerial Tramway (TR)\n",
    "Bus (MB)\n",
    "Bus rapid transit (RB)\n",
    "Commuter bus (CB)\n",
    "Demand Response (DR)\n",
    "Demand taxi (DT)\n",
    "Ferryboat (FB)\n",
    "Jitney (JT)\n",
    "Publico (PB)\n",
    "Trolleybus (TB)\n",
    "Vanpool (VP)"
   ]
  },
  {
   "cell_type": "code",
   "execution_count": 56,
   "metadata": {},
   "outputs": [],
   "source": [
    "data_frames = [transport,meat,vehicles,waste,electric,fuel]\n",
    "df_merged = reduce(lambda  left,right: pd.merge(left,right,on=['year'],\n",
    "                                            how='outer'), data_frames)\n",
    "df_merged.to_csv(r'data\\Cleaned and Combined.csv')"
   ]
  }
 ],
 "metadata": {
  "kernelspec": {
   "display_name": "Python 3",
   "language": "python",
   "name": "python3"
  },
  "language_info": {
   "codemirror_mode": {
    "name": "ipython",
    "version": 3
   },
   "file_extension": ".py",
   "mimetype": "text/x-python",
   "name": "python",
   "nbconvert_exporter": "python",
   "pygments_lexer": "ipython3",
   "version": "3.7.0"
  }
 },
 "nbformat": 4,
 "nbformat_minor": 2
}
